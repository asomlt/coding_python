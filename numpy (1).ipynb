{
 "cells": [
  {
   "cell_type": "code",
   "execution_count": 3,
   "id": "3d9b3aa8",
   "metadata": {},
   "outputs": [
    {
     "name": "stdout",
     "output_type": "stream",
     "text": [
      "Array is of type:  <class 'numpy.ndarray'>\n",
      "No. of dimensions:  2\n",
      "Shape of array:  (2, 3)\n",
      "Size of array:  6\n",
      "Array stores elements of type:  int32\n"
     ]
    }
   ],
   "source": [
    "import numpy as a\n",
    "# Python program to demonstrate\n",
    "# basic array characteristics\n",
    "import numpy as np\n",
    "\n",
    "# Creating array object\n",
    "arr = np.array( [[ 1, 2, 3],\n",
    "\t\t\t\t[ 4, 2, 5]] )\n",
    "\n",
    "# Printing type of arr object\n",
    "print(\"Array is of type: \", type(arr))\n",
    "\n",
    "# Printing array dimensions (axes)\n",
    "print(\"No. of dimensions: \", arr.ndim)\n",
    "\n",
    "# Printing shape of array\n",
    "print(\"Shape of array: \", arr.shape)\n",
    "\n",
    "# Printing size (total number of elements) of array\n",
    "print(\"Size of array: \", arr.size)\n",
    "\n",
    "# Printing type of elements in array\n",
    "print(\"Array stores elements of type: \", arr.dtype)\n"
   ]
  },
  {
   "cell_type": "code",
   "execution_count": null,
   "id": "ea17533a",
   "metadata": {},
   "outputs": [],
   "source": [
    "# numpy is terms as the numerical python,numerical means numbers numby  is libraryes it cointains many built in function ,mainly funcion is used  many times as the librabries book \n",
    "\n",
    "# it is the open sources \n",
    "\n",
    "# multidimesion arrays\n",
    "# homogenus---all data is in same form...\n",
    "# hetro genus---all data type is not in same form\n",
    "# in case of numpy we can handel string#\n",
    "\n",
    "# in the list we can put the hetro \n",
    "# numpy dimesion called axis \n",
    "# mainly axis is same as the matrix  row or colum ko bolte h\n",
    "# array is the collection of same data type\n"
   ]
  },
  {
   "cell_type": "code",
   "execution_count": null,
   "id": "efee26ed",
   "metadata": {},
   "outputs": [],
   "source": [
    "# reason for using numpy\n",
    "\n",
    "# numpy handel array \n",
    "# it provide a good storage "
   ]
  },
  {
   "cell_type": "code",
   "execution_count": null,
   "id": "1ba8b9fb",
   "metadata": {},
   "outputs": [],
   "source": [
    "Array\n",
    "contigous memory\n",
    "numpy array class is called ndarray\n",
    "for numpy you must create array  first\n"
   ]
  },
  {
   "cell_type": "code",
   "execution_count": 6,
   "id": "0cdef0db",
   "metadata": {},
   "outputs": [
    {
     "name": "stdout",
     "output_type": "stream",
     "text": [
      "[ 1  2  3  4 56  7 89  8]\n",
      "<class 'numpy.ndarray'>\n",
      "136\n"
     ]
    }
   ],
   "source": [
    "import numpy as np\n",
    "import sys\n",
    "arr1=np.array([1,2,3,4,56,7,89,8])\n",
    "print(arr1)\n",
    "print(type(arr1))\n",
    "print(sys.getsizeof(arr1))\n",
    "lst1=[4,5,7,8,9,55,]\n"
   ]
  },
  {
   "cell_type": "code",
   "execution_count": null,
   "id": "437a489c",
   "metadata": {},
   "outputs": [],
   "source": [
    "exam ka ka liye imp haa\n",
    "\n",
    "diffrent attribuutes of numpy"
   ]
  },
  {
   "cell_type": "code",
   "execution_count": 8,
   "id": "2bf07076",
   "metadata": {},
   "outputs": [
    {
     "name": "stdout",
     "output_type": "stream",
     "text": [
      "[1 3 4 5 6]\n",
      "int32\n",
      "1\n",
      "4\n",
      "20\n",
      "5\n",
      "(5,)\n",
      "<class 'numpy.ndarray'>\n",
      "124\n"
     ]
    }
   ],
   "source": [
    "#1d array----list should be 1d ex  lst=[1,3,4,5,6]\n",
    "import numpy as np\n",
    "lst=[1,3,4,5,6]\n",
    "arr1=np.array(lst)\n",
    "print(arr1)\n",
    "print(arr1.dtype) #data  type\n",
    "print(arr1.ndim) #no of dimesion \n",
    "print(arr1.itemsize) # size in bytes of each element\n",
    "\n",
    "print(arr1.nbytes) #size of whole array\n",
    "print(arr1.size) # numbers of elements in array \n",
    "\n",
    "print(arr1.shape) # oder of the arrays ,means it gives the rows  and coloms ##if colom is 1 it used as deafult it return as  (6,) it means  6 row and 1 colom\n",
    "print(type(arr1)) \n",
    "print(sys.getsizeof(arr1))"
   ]
  },
  {
   "cell_type": "code",
   "execution_count": null,
   "id": "4f59c5d2",
   "metadata": {},
   "outputs": [],
   "source": []
  },
  {
   "cell_type": "code",
   "execution_count": 10,
   "id": "9891aaaf",
   "metadata": {},
   "outputs": [
    {
     "name": "stdout",
     "output_type": "stream",
     "text": [
      "[[1 3 4 5 6]\n",
      " [5 6 4 7 8]]\n",
      "int32\n",
      "2\n",
      "4\n",
      "40\n",
      "10\n",
      "(2, 5)\n",
      "<class 'numpy.ndarray'>\n"
     ]
    }
   ],
   "source": [
    "import numpy as np\n",
    "lst=[[1,3,4,5,6],[5,6,4,7,8]]\n",
    "arr2=np.array(lst)\n",
    "print(arr2)\n",
    "print(arr2.dtype) #data  type\n",
    "print(arr2.ndim) #no of dimesion \n",
    "print(arr2.itemsize) # size in bytes of each element\n",
    "\n",
    "print(arr2.nbytes) #size of whole array\n",
    "print(arr2.size) # numbers of elements in array \n",
    "\n",
    "print(arr2.shape) # oder of the arrays ,means it gives the rows  and coloms ##if colom is 1 it used as deafult it return as  (6,) it means  6 row and 1 colom\n",
    "print(type(arr2)) "
   ]
  },
  {
   "cell_type": "code",
   "execution_count": 15,
   "id": "e6e885d9",
   "metadata": {},
   "outputs": [
    {
     "name": "stdout",
     "output_type": "stream",
     "text": [
      "[[[ 1  3  4  5  6]\n",
      "  [ 5  6  4  7  8]]\n",
      "\n",
      " [[12 56 78 89 77]\n",
      "  [55 44 56 57 88]]]\n",
      "int32\n",
      "3\n",
      "4\n",
      "80\n",
      "20\n",
      "(2, 2, 5)\n",
      "<class 'numpy.ndarray'>\n"
     ]
    }
   ],
   "source": [
    "import numpy as np\n",
    "lst=[[[1,3,4,5,6],[5,6,4,7,8]],[[12,56,78,89,77],[55,44,56,57,88]]]\n",
    "arr3=np.array(lst)\n",
    "print(arr3)\n",
    "print(arr3.dtype) #data  type\n",
    "print(arr3.ndim) #no of dimesion \n",
    "print(arr3.itemsize) # size in bytes of each element\n",
    "\n",
    "print(arr3.nbytes) #size of whole array\n",
    "print(arr3.size) # numbers of elements in array \n",
    "\n",
    "print(arr3.shape) # oder of the arrays ,means it gives the rows  and coloms ##if colom is 1 it used as deafult it return as  (6,) it means  6 row and 1 colom\n",
    "print(type(arr3))"
   ]
  },
  {
   "cell_type": "code",
   "execution_count": 25,
   "id": "b63f4505",
   "metadata": {},
   "outputs": [
    {
     "name": "stdout",
     "output_type": "stream",
     "text": [
      "[10 11 12 13 14 15 16 17 18 19 20]\n",
      "int8\n",
      "1\n",
      "size type 1\n",
      "11\n",
      "size 11\n",
      "(11,)\n",
      "<class 'numpy.ndarray'>\n",
      "11\n",
      "12\n",
      "13\n",
      "14\n",
      "15\n",
      "16\n",
      "10  11  12  13  14  15  16  17  18  19  20  \n"
     ]
    }
   ],
   "source": [
    "import numpy as np\n",
    "\n",
    "arr1=np.array(range(10,21),\"int8\") #int8 is the 8 bites ==1bytes \n",
    "print(arr1)\n",
    "print(arr1.dtype) #data  type\n",
    "print(arr1.ndim) #no of dimesion \n",
    "print(\"size type\",arr1.itemsize) # size in bytes of each element\n",
    "\n",
    "print(arr1.nbytes) #size of whole array\n",
    "print(\"size\",arr1.size) # numbers of elements in array \n",
    "\n",
    "print(arr1.shape) # oder of the arrays ,means it gives the rows  and coloms ##if colom is 1 it used as deafult it return as  (6,) it means  6 row and 1 colom\n",
    "print(type(arr1))\n",
    "\n",
    "\n",
    "\n",
    "print(arr1[1])\n",
    "print(arr1[2])\n",
    "print(arr1[3])\n",
    "print(arr1[4])\n",
    "print(arr1[5])\n",
    "print(arr1[6])\n",
    "\n",
    "for i in arr1:\n",
    "    print(i,end=\"  \")\n",
    "print()#it is for the change of the lib=ne "
   ]
  },
  {
   "cell_type": "code",
   "execution_count": null,
   "id": "d44f52f5",
   "metadata": {},
   "outputs": [],
   "source": [
    "Array ma silicing 1d"
   ]
  },
  {
   "cell_type": "code",
   "execution_count": 26,
   "id": "4b525399",
   "metadata": {},
   "outputs": [
    {
     "name": "stdout",
     "output_type": "stream",
     "text": [
      "[48]\n",
      "[48]\n",
      "[48]\n",
      "[48]\n"
     ]
    }
   ],
   "source": [
    "import numpy as np\n",
    "arr1=np.array([12,34,56,45,47,48,59,59,63,47,25])\n",
    "print(arr1[5:6:2])#[start]\n",
    "print(arr1[::-1])#reverse the array \n",
    "print(arr1[5:6:2])\n",
    "print(arr1[5:6:2])"
   ]
  },
  {
   "cell_type": "code",
   "execution_count": 40,
   "id": "15dc497a",
   "metadata": {},
   "outputs": [
    {
     "name": "stdout",
     "output_type": "stream",
     "text": [
      "[[45 65 85]\n",
      " [ 6  6  4]\n",
      " [78 98 74]]\n"
     ]
    }
   ],
   "source": [
    "import numpy as np\n",
    "arr1=np.array([[12,1,3,5],[12,45,65,85],[5,6,6,4],[5,78,98,74]])\n",
    "print(arr1[1:5,1:4])"
   ]
  },
  {
   "cell_type": "code",
   "execution_count": 44,
   "id": "7cb83d14",
   "metadata": {},
   "outputs": [
    {
     "name": "stdout",
     "output_type": "stream",
     "text": [
      "original without change [  12   25   26   24   58  985 7421   21   23   54   65]\n",
      "sub without change [  58  985 7421   21]\n",
      "sub with change [  58  985 2000   21]\n",
      "original with change [  12   25   26   24   58  985 2000   21   23   54   65]\n"
     ]
    }
   ],
   "source": [
    "#slice create view of the original array\n",
    "arr1=np.array([12,25,26,24,58,985,7421,21,23,54,65])\n",
    "print(\"original without change\",arr1)\n",
    "b=arr1[4:8]\n",
    "print(\"sub without change\",b)\n",
    "b[2]=2000\n",
    "print(\"sub with change\",b)\n",
    "print(\"original with change\",arr1)"
   ]
  },
  {
   "cell_type": "code",
   "execution_count": null,
   "id": "c4953081",
   "metadata": {},
   "outputs": [],
   "source": [
    "1d and 2d creation by using function"
   ]
  },
  {
   "cell_type": "code",
   "execution_count": 2,
   "id": "70c05b17",
   "metadata": {},
   "outputs": [
    {
     "name": "stdout",
     "output_type": "stream",
     "text": [
      "1d by using arange [ 0  1  2  3  4  5  6  7  8  9 10 11 12 13 14 15 16 17 18 19 20 21 22 23\n",
      " 24 25 26 27 28 29 30 31 32 33 34 35 36 37 38 39 40]\n"
     ]
    }
   ],
   "source": [
    "import  numpy as np\n",
    "arr1=np.arange(15)\n",
    "print(\"1d by using arange\",arr1)\n",
    "arr2=arr1.reshape(3,5)\n",
    "print(\"1d to 2d by using reshape  \",arr2)"
   ]
  },
  {
   "cell_type": "code",
   "execution_count": null,
   "id": "2e8407bd",
   "metadata": {},
   "outputs": [],
   "source": [
    "1d to 3d by using reshape"
   ]
  },
  {
   "cell_type": "code",
   "execution_count": 49,
   "id": "09cfd746",
   "metadata": {},
   "outputs": [
    {
     "name": "stdout",
     "output_type": "stream",
     "text": [
      "[[ 0  1  2  3  4  5  6  7  8  9 10 11]\n",
      " [12 13 14 15 16 17 18 19 20 21 22 23]\n",
      " [24 25 26 27 28 29 30 31 32 33 34 35]\n",
      " [36 37 38 39 40 41 42 43 44 45 46 47]]\n"
     ]
    }
   ],
   "source": [
    "arr1=np.arange(48).reshape(4,12)\n",
    "print(arr1)"
   ]
  },
  {
   "cell_type": "code",
   "execution_count": null,
   "id": "765a2313",
   "metadata": {},
   "outputs": [],
   "source": []
  },
  {
   "cell_type": "code",
   "execution_count": null,
   "id": "65eae6dc",
   "metadata": {},
   "outputs": [],
   "source": []
  },
  {
   "cell_type": "code",
   "execution_count": null,
   "id": "481877cc",
   "metadata": {},
   "outputs": [],
   "source": [
    "zero func is used to create null matrix\n",
    "#null matrix is used to insilization\n"
   ]
  },
  {
   "cell_type": "code",
   "execution_count": null,
   "id": "86748f76",
   "metadata": {},
   "outputs": [],
   "source": [
    "#empy matrix cointains raindom vzlue hota h it may or may not be zero it not granted that elements are zero"
   ]
  },
  {
   "cell_type": "code",
   "execution_count": 32,
   "id": "0d76bdcc",
   "metadata": {},
   "outputs": [
    {
     "name": "stdout",
     "output_type": "stream",
     "text": [
      "[[0. 0. 0. 0. 0. 0. 0. 0. 0. 0. 0. 0.]\n",
      " [0. 0. 0. 0. 0. 0. 0. 0. 0. 0. 0. 0.]\n",
      " [0. 0. 0. 0. 0. 0. 0. 0. 0. 0. 0. 0.]\n",
      " [0. 0. 0. 0. 0. 0. 0. 0. 0. 0. 0. 0.]\n",
      " [0. 0. 0. 0. 0. 0. 0. 0. 0. 0. 0. 0.]\n",
      " [0. 0. 0. 0. 0. 0. 0. 0. 0. 0. 0. 0.]\n",
      " [0. 0. 0. 0. 0. 0. 0. 0. 0. 0. 0. 0.]\n",
      " [0. 0. 0. 0. 0. 0. 0. 0. 0. 0. 0. 0.]\n",
      " [0. 0. 0. 0. 0. 0. 0. 0. 0. 0. 0. 0.]\n",
      " [0. 0. 0. 0. 0. 0. 0. 0. 0. 0. 0. 0.]\n",
      " [0. 0. 0. 0. 0. 0. 0. 0. 0. 0. 0. 0.]\n",
      " [0. 0. 0. 0. 0. 0. 0. 0. 0. 0. 0. 0.]\n",
      " [0. 0. 0. 0. 0. 0. 0. 0. 0. 0. 0. 0.]\n",
      " [0. 0. 0. 0. 0. 0. 0. 0. 0. 0. 0. 0.]\n",
      " [0. 0. 0. 0. 0. 0. 0. 0. 0. 0. 0. 0.]\n",
      " [0. 0. 0. 0. 0. 0. 0. 0. 0. 0. 0. 0.]\n",
      " [0. 0. 0. 0. 0. 0. 0. 0. 0. 0. 0. 0.]\n",
      " [0. 0. 0. 0. 0. 0. 0. 0. 0. 0. 0. 0.]\n",
      " [0. 0. 0. 0. 0. 0. 0. 0. 0. 0. 0. 0.]\n",
      " [0. 0. 0. 0. 0. 0. 0. 0. 0. 0. 0. 0.]\n",
      " [0. 0. 0. 0. 0. 0. 0. 0. 0. 0. 0. 0.]\n",
      " [0. 0. 0. 0. 0. 0. 0. 0. 0. 0. 0. 0.]\n",
      " [0. 0. 0. 0. 0. 0. 0. 0. 0. 0. 0. 0.]\n",
      " [0. 0. 0. 0. 0. 0. 0. 0. 0. 0. 0. 0.]\n",
      " [0. 0. 0. 0. 0. 0. 0. 0. 0. 0. 0. 0.]\n",
      " [0. 0. 0. 0. 0. 0. 0. 0. 0. 0. 0. 0.]\n",
      " [0. 0. 0. 0. 0. 0. 0. 0. 0. 0. 0. 0.]\n",
      " [0. 0. 0. 0. 0. 0. 0. 0. 0. 0. 0. 0.]\n",
      " [0. 0. 0. 0. 0. 0. 0. 0. 0. 0. 0. 0.]\n",
      " [0. 0. 0. 0. 0. 0. 0. 0. 0. 0. 0. 0.]\n",
      " [0. 0. 0. 0. 0. 0. 0. 0. 0. 0. 0. 0.]\n",
      " [0. 0. 0. 0. 0. 0. 0. 0. 0. 0. 0. 0.]\n",
      " [0. 0. 0. 0. 0. 0. 0. 0. 0. 0. 0. 0.]\n",
      " [0. 0. 0. 0. 0. 0. 0. 0. 0. 0. 0. 0.]\n",
      " [0. 0. 0. 0. 0. 0. 0. 0. 0. 0. 0. 0.]\n",
      " [0. 0. 0. 0. 0. 0. 0. 0. 0. 0. 0. 0.]\n",
      " [0. 0. 0. 0. 0. 0. 0. 0. 0. 0. 0. 0.]\n",
      " [0. 0. 0. 0. 0. 0. 0. 0. 0. 0. 0. 0.]\n",
      " [0. 0. 0. 0. 0. 0. 0. 0. 0. 0. 0. 0.]\n",
      " [0. 0. 0. 0. 0. 0. 0. 0. 0. 0. 0. 0.]\n",
      " [0. 0. 0. 0. 0. 0. 0. 0. 0. 0. 0. 0.]\n",
      " [0. 0. 0. 0. 0. 0. 0. 0. 0. 0. 0. 0.]\n",
      " [0. 0. 0. 0. 0. 0. 0. 0. 0. 0. 0. 0.]\n",
      " [0. 0. 0. 0. 0. 0. 0. 0. 0. 0. 0. 0.]\n",
      " [0. 0. 0. 0. 0. 0. 0. 0. 0. 0. 0. 0.]\n",
      " [0. 0. 0. 0. 0. 0. 0. 0. 0. 0. 0. 0.]\n",
      " [0. 0. 0. 0. 0. 0. 0. 0. 0. 0. 0. 0.]\n",
      " [0. 0. 0. 0. 0. 0. 0. 0. 0. 0. 0. 0.]\n",
      " [0. 0. 0. 0. 0. 0. 0. 0. 0. 0. 0. 0.]\n",
      " [0. 0. 0. 0. 0. 0. 0. 0. 0. 0. 0. 0.]\n",
      " [0. 0. 0. 0. 0. 0. 0. 0. 0. 0. 0. 0.]\n",
      " [0. 0. 0. 0. 0. 0. 0. 0. 0. 0. 0. 0.]\n",
      " [0. 0. 0. 0. 0. 0. 0. 0. 0. 0. 0. 0.]\n",
      " [0. 0. 0. 0. 0. 0. 0. 0. 0. 0. 0. 0.]\n",
      " [0. 0. 0. 0. 0. 0. 0. 0. 0. 0. 0. 0.]]\n",
      "[[1. 1. 1. 1. 1. 1. 1. 1. 1. 1. 1. 1.]\n",
      " [1. 1. 1. 1. 1. 1. 1. 1. 1. 1. 1. 1.]\n",
      " [1. 1. 1. 1. 1. 1. 1. 1. 1. 1. 1. 1.]\n",
      " [1. 1. 1. 1. 1. 1. 1. 1. 1. 1. 1. 1.]\n",
      " [1. 1. 1. 1. 1. 1. 1. 1. 1. 1. 1. 1.]\n",
      " [1. 1. 1. 1. 1. 1. 1. 1. 1. 1. 1. 1.]\n",
      " [1. 1. 1. 1. 1. 1. 1. 1. 1. 1. 1. 1.]\n",
      " [1. 1. 1. 1. 1. 1. 1. 1. 1. 1. 1. 1.]\n",
      " [1. 1. 1. 1. 1. 1. 1. 1. 1. 1. 1. 1.]\n",
      " [1. 1. 1. 1. 1. 1. 1. 1. 1. 1. 1. 1.]\n",
      " [1. 1. 1. 1. 1. 1. 1. 1. 1. 1. 1. 1.]\n",
      " [1. 1. 1. 1. 1. 1. 1. 1. 1. 1. 1. 1.]\n",
      " [1. 1. 1. 1. 1. 1. 1. 1. 1. 1. 1. 1.]\n",
      " [1. 1. 1. 1. 1. 1. 1. 1. 1. 1. 1. 1.]\n",
      " [1. 1. 1. 1. 1. 1. 1. 1. 1. 1. 1. 1.]\n",
      " [1. 1. 1. 1. 1. 1. 1. 1. 1. 1. 1. 1.]\n",
      " [1. 1. 1. 1. 1. 1. 1. 1. 1. 1. 1. 1.]\n",
      " [1. 1. 1. 1. 1. 1. 1. 1. 1. 1. 1. 1.]\n",
      " [1. 1. 1. 1. 1. 1. 1. 1. 1. 1. 1. 1.]\n",
      " [1. 1. 1. 1. 1. 1. 1. 1. 1. 1. 1. 1.]\n",
      " [1. 1. 1. 1. 1. 1. 1. 1. 1. 1. 1. 1.]\n",
      " [1. 1. 1. 1. 1. 1. 1. 1. 1. 1. 1. 1.]\n",
      " [1. 1. 1. 1. 1. 1. 1. 1. 1. 1. 1. 1.]\n",
      " [1. 1. 1. 1. 1. 1. 1. 1. 1. 1. 1. 1.]\n",
      " [1. 1. 1. 1. 1. 1. 1. 1. 1. 1. 1. 1.]\n",
      " [1. 1. 1. 1. 1. 1. 1. 1. 1. 1. 1. 1.]\n",
      " [1. 1. 1. 1. 1. 1. 1. 1. 1. 1. 1. 1.]\n",
      " [1. 1. 1. 1. 1. 1. 1. 1. 1. 1. 1. 1.]\n",
      " [1. 1. 1. 1. 1. 1. 1. 1. 1. 1. 1. 1.]\n",
      " [1. 1. 1. 1. 1. 1. 1. 1. 1. 1. 1. 1.]\n",
      " [1. 1. 1. 1. 1. 1. 1. 1. 1. 1. 1. 1.]\n",
      " [1. 1. 1. 1. 1. 1. 1. 1. 1. 1. 1. 1.]\n",
      " [1. 1. 1. 1. 1. 1. 1. 1. 1. 1. 1. 1.]\n",
      " [1. 1. 1. 1. 1. 1. 1. 1. 1. 1. 1. 1.]\n",
      " [1. 1. 1. 1. 1. 1. 1. 1. 1. 1. 1. 1.]\n",
      " [1. 1. 1. 1. 1. 1. 1. 1. 1. 1. 1. 1.]\n",
      " [1. 1. 1. 1. 1. 1. 1. 1. 1. 1. 1. 1.]\n",
      " [1. 1. 1. 1. 1. 1. 1. 1. 1. 1. 1. 1.]\n",
      " [1. 1. 1. 1. 1. 1. 1. 1. 1. 1. 1. 1.]\n",
      " [1. 1. 1. 1. 1. 1. 1. 1. 1. 1. 1. 1.]\n",
      " [1. 1. 1. 1. 1. 1. 1. 1. 1. 1. 1. 1.]\n",
      " [1. 1. 1. 1. 1. 1. 1. 1. 1. 1. 1. 1.]\n",
      " [1. 1. 1. 1. 1. 1. 1. 1. 1. 1. 1. 1.]\n",
      " [1. 1. 1. 1. 1. 1. 1. 1. 1. 1. 1. 1.]\n",
      " [1. 1. 1. 1. 1. 1. 1. 1. 1. 1. 1. 1.]\n",
      " [1. 1. 1. 1. 1. 1. 1. 1. 1. 1. 1. 1.]\n",
      " [1. 1. 1. 1. 1. 1. 1. 1. 1. 1. 1. 1.]\n",
      " [1. 1. 1. 1. 1. 1. 1. 1. 1. 1. 1. 1.]\n",
      " [1. 1. 1. 1. 1. 1. 1. 1. 1. 1. 1. 1.]\n",
      " [1. 1. 1. 1. 1. 1. 1. 1. 1. 1. 1. 1.]\n",
      " [1. 1. 1. 1. 1. 1. 1. 1. 1. 1. 1. 1.]\n",
      " [1. 1. 1. 1. 1. 1. 1. 1. 1. 1. 1. 1.]\n",
      " [1. 1. 1. 1. 1. 1. 1. 1. 1. 1. 1. 1.]\n",
      " [1. 1. 1. 1. 1. 1. 1. 1. 1. 1. 1. 1.]\n",
      " [1. 1. 1. 1. 1. 1. 1. 1. 1. 1. 1. 1.]]\n",
      "[[1.31333301e-311 1.31334394e-311 0.00000000e+000 6.95177290e-310\n",
      "  3.26083326e-321 1.31336245e-311 1.31336245e-311 1.31336245e-311\n",
      "  1.31336245e-311 1.31336205e-311 1.31336245e-311 1.31336245e-311]\n",
      " [1.31336210e-311 1.31336210e-311 1.31336211e-311 1.31336210e-311\n",
      "  1.31336210e-311 1.31336211e-311 1.31336210e-311 1.31336210e-311\n",
      "  1.31336210e-311 1.31336210e-311 1.31336211e-311 1.31336211e-311]\n",
      " [1.31336211e-311 1.31336211e-311 1.31336211e-311 1.31336211e-311\n",
      "  1.31336211e-311 1.31336210e-311 1.31336210e-311 1.31336210e-311\n",
      "  1.31336211e-311 1.31336210e-311 1.31336210e-311 1.31336211e-311]\n",
      " [1.31336210e-311 1.31336210e-311 1.31336211e-311 1.31336210e-311\n",
      "  1.31336210e-311 1.31336239e-311 1.31336239e-311 1.31336239e-311\n",
      "  1.31336239e-311 1.31336239e-311 1.31336240e-311 1.31336240e-311]\n",
      " [1.31336239e-311 1.31336239e-311 1.31336239e-311 1.31336239e-311\n",
      "  1.31336239e-311 1.31336239e-311 1.31336239e-311 1.31336239e-311\n",
      "  1.31336239e-311 1.31336239e-311 1.31336240e-311 1.31336239e-311]\n",
      " [1.31336239e-311 1.31336239e-311 1.31336239e-311 1.31336239e-311\n",
      "  1.31336239e-311 1.31336239e-311 1.31336239e-311 1.31336239e-311\n",
      "  1.31336239e-311 1.31336239e-311 1.31336239e-311 1.31336240e-311]\n",
      " [1.31336239e-311 1.31336240e-311 1.31336239e-311 1.31336239e-311\n",
      "  1.31336239e-311 1.31336239e-311 1.31336239e-311 1.31336239e-311\n",
      "  1.31336239e-311 1.31336240e-311 1.31336074e-311 1.31336071e-311]\n",
      " [1.31336074e-311 1.31336071e-311 1.31336070e-311 1.31336071e-311\n",
      "  1.31336071e-311 1.31336070e-311 1.31336070e-311 1.31336070e-311\n",
      "  1.31336070e-311 1.31336071e-311 1.31336071e-311 1.31334130e-311]\n",
      " [1.31334129e-311 1.31335844e-311 1.31335825e-311 1.31334128e-311\n",
      "  1.31335856e-311 1.31336209e-311 1.31336209e-311 1.31336209e-311\n",
      "  1.31336209e-311 1.31336209e-311 1.31336209e-311 1.31336209e-311]\n",
      " [1.31336209e-311 1.31336209e-311 1.31336209e-311 1.31336209e-311\n",
      "  1.31336209e-311 1.31336227e-311 1.31336227e-311 1.31336227e-311\n",
      "  1.31336227e-311 1.31336227e-311 1.31335883e-311 1.31335883e-311]\n",
      " [1.31335884e-311 1.31335883e-311 1.31335883e-311 1.31335883e-311\n",
      "  1.31335883e-311 1.31335883e-311 1.31335883e-311 1.31335883e-311\n",
      "  1.31335883e-311 1.31335879e-311 1.31335879e-311 1.31335879e-311]\n",
      " [1.31336068e-311 1.31336068e-311 1.31336068e-311 1.31336068e-311\n",
      "  1.31336068e-311 1.31336068e-311 1.31336068e-311 1.31335883e-311\n",
      "  1.31335883e-311 1.31335883e-311 1.31335883e-311 1.31335879e-311]\n",
      " [1.31335879e-311 1.31335879e-311 1.31335879e-311 1.31335879e-311\n",
      "  1.31335879e-311 1.31336056e-311 1.31336056e-311 1.31336056e-311\n",
      "  1.31336056e-311 1.31336041e-311 1.31336037e-311 1.31336138e-311]\n",
      " [1.31336138e-311 1.31336156e-311 1.31336156e-311 1.31336156e-311\n",
      "  1.31336156e-311 1.31336156e-311 1.31336140e-311 1.31336237e-311\n",
      "  1.31336237e-311 1.31336237e-311 1.31336237e-311 1.31336237e-311]\n",
      " [1.31336237e-311 1.31336237e-311 1.31336237e-311 1.31336237e-311\n",
      "  1.31336237e-311 1.31335879e-311 1.31335879e-311 1.31335879e-311\n",
      "  1.31335879e-311 1.31335879e-311 1.31335879e-311 1.31335879e-311]\n",
      " [1.31335879e-311 1.31335879e-311 1.31335879e-311 1.31335879e-311\n",
      "  1.31335879e-311 1.31335879e-311 1.31335879e-311 1.31335879e-311\n",
      "  1.31336242e-311 1.31336242e-311 1.31336242e-311 1.31336242e-311]\n",
      " [1.31336242e-311 1.31336242e-311 1.31336242e-311 1.31336242e-311\n",
      "  1.31336242e-311 1.31336242e-311 1.31336242e-311 1.31336242e-311\n",
      "  1.31336242e-311 1.31336242e-311 1.31336242e-311 1.31336242e-311]\n",
      " [1.31336242e-311 1.31336242e-311 1.31336242e-311 1.31336242e-311\n",
      "  1.31336242e-311 1.31336242e-311 1.31336242e-311 1.31336242e-311\n",
      "  1.31336242e-311 1.31336242e-311 1.31336242e-311 1.31336242e-311]\n",
      " [1.31336242e-311 1.31336242e-311 1.31336242e-311 1.31336242e-311\n",
      "  1.31336242e-311 1.31336052e-311 1.31336052e-311 1.31336052e-311\n",
      "  1.31336052e-311 1.31336240e-311 1.31336240e-311 1.31336240e-311]\n",
      " [1.31336240e-311 1.31336240e-311 1.31336240e-311 1.31336240e-311\n",
      "  1.31336240e-311 1.31336240e-311 1.31336240e-311 1.31336240e-311\n",
      "  1.31336240e-311 1.31336240e-311 1.31336240e-311 1.31336240e-311]\n",
      " [1.31336240e-311 1.31336240e-311 1.31336240e-311 1.31336240e-311\n",
      "  1.31336240e-311 1.31336240e-311 1.31336240e-311 1.31336240e-311\n",
      "  1.31336240e-311 1.31336240e-311 1.31336240e-311 1.31336240e-311]\n",
      " [1.31336240e-311 1.31336240e-311 1.31336240e-311 1.31336240e-311\n",
      "  1.31336240e-311 1.31336240e-311 1.31336240e-311 1.31336240e-311\n",
      "  1.31336240e-311 1.31336240e-311 1.31336240e-311 1.31336240e-311]\n",
      " [1.31336240e-311 1.31336240e-311 1.31336240e-311 1.31336240e-311\n",
      "  1.31336240e-311 1.31336240e-311 1.31336240e-311 1.31336240e-311\n",
      "  1.31336240e-311 1.31336240e-311 1.31336240e-311 1.31336240e-311]\n",
      " [1.31336240e-311 1.31336240e-311 1.31336240e-311 1.31336240e-311\n",
      "  1.31336240e-311 1.31336240e-311 1.31336240e-311 1.31336240e-311\n",
      "  1.31336240e-311 1.31336240e-311 1.31336240e-311 1.31336240e-311]\n",
      " [1.31336240e-311 1.31336240e-311 1.31336240e-311 1.31336240e-311\n",
      "  1.31336240e-311 1.31336240e-311 1.31336240e-311 1.31336240e-311\n",
      "  1.31336240e-311 1.31336240e-311 1.31336240e-311 1.31336240e-311]\n",
      " [1.31336240e-311 1.31336056e-311 1.31336056e-311 1.31336056e-311\n",
      "  1.31336056e-311 1.31336248e-311 1.31336248e-311 1.31336248e-311\n",
      "  1.31336248e-311 1.31336248e-311 1.31336248e-311 1.31336248e-311]\n",
      " [1.31336248e-311 1.31336248e-311 1.31336248e-311 1.31336248e-311\n",
      "  1.31336248e-311 1.31336248e-311 1.31336248e-311 1.31336248e-311\n",
      "  1.31336248e-311 1.31336248e-311 1.31336248e-311 1.31336248e-311]\n",
      " [1.31336248e-311 1.31336248e-311 1.31336248e-311 1.31336248e-311\n",
      "  1.31336248e-311 1.31336248e-311 1.31336248e-311 1.31336248e-311\n",
      "  1.31336248e-311 1.31336248e-311 1.31336248e-311 1.31336248e-311]\n",
      " [1.31336248e-311 1.31334098e-311 1.31336059e-311 1.31336059e-311\n",
      "  1.31336059e-311 1.31336059e-311 1.31336059e-311 1.31336059e-311\n",
      "  1.31336059e-311 1.31336059e-311 1.31336059e-311 1.31336059e-311]\n",
      " [1.31336059e-311 1.31336050e-311 1.31336050e-311 1.31336246e-311\n",
      "  1.31336246e-311 1.31336246e-311 1.31336246e-311 1.31336246e-311\n",
      "  1.31336246e-311 1.31336246e-311 1.31336246e-311 1.31336246e-311]\n",
      " [1.31336246e-311 1.31336246e-311 1.31336246e-311 1.31336246e-311\n",
      "  1.31336246e-311 1.31336246e-311 1.31336246e-311 1.31336246e-311\n",
      "  1.31336246e-311 1.31336246e-311 1.31336246e-311 1.31336246e-311]\n",
      " [1.31336246e-311 1.31336246e-311 1.31336246e-311 1.31336246e-311\n",
      "  1.31336246e-311 1.31336246e-311 1.31336246e-311 1.31336246e-311\n",
      "  1.31336246e-311 1.31336246e-311 1.31336246e-311 1.31336246e-311]\n",
      " [1.31336246e-311 1.31336246e-311 1.31336246e-311 1.31336246e-311\n",
      "  1.31336246e-311 1.31336245e-311 1.31336245e-311 1.31336245e-311\n",
      "  1.31336245e-311 1.31336245e-311 1.31336245e-311 1.31336245e-311]\n",
      " [1.31336245e-311 1.31336245e-311 1.31336245e-311 1.31336245e-311\n",
      "  1.31336245e-311 1.31336245e-311 1.31336245e-311 1.31336245e-311\n",
      "  1.31336245e-311 1.31336245e-311 1.31336245e-311 1.31336245e-311]\n",
      " [1.31336245e-311 1.31336245e-311 1.31336245e-311 1.31336245e-311\n",
      "  1.31336245e-311 1.31336245e-311 1.31336245e-311 1.31336245e-311\n",
      "  1.31336245e-311 1.31336245e-311 1.31336245e-311 1.31336245e-311]\n",
      " [1.31336245e-311 1.31336245e-311 1.31336245e-311 1.31336245e-311\n",
      "  1.31336245e-311 1.31336245e-311 1.31336245e-311 1.31336245e-311\n",
      "  1.31336245e-311 1.31336245e-311 1.31336245e-311 1.31336238e-311]\n",
      " [1.31336239e-311 1.31336238e-311 1.31336238e-311 1.31336238e-311\n",
      "  1.31336238e-311 1.31336238e-311 1.31336238e-311 1.31336238e-311\n",
      "  1.31336238e-311 1.31336238e-311 1.31336238e-311 1.31336238e-311]\n",
      " [1.31336238e-311 1.31336238e-311 1.31336238e-311 1.31336239e-311\n",
      "  1.31336238e-311 1.31336238e-311 1.31336238e-311 1.31336238e-311\n",
      "  1.31336238e-311 1.31336238e-311 1.31336228e-311 1.31336228e-311]\n",
      " [1.31336228e-311 1.31336228e-311 1.31336228e-311 1.31336228e-311\n",
      "  1.31336228e-311 1.31336228e-311 1.31336228e-311 1.31336228e-311\n",
      "  1.31336228e-311 1.31336228e-311 1.31336228e-311 1.31336228e-311]\n",
      " [1.31336228e-311 1.31336228e-311 1.31336228e-311 1.31336228e-311\n",
      "  1.31336228e-311 1.31336228e-311 1.31336228e-311 1.31336228e-311\n",
      "  1.31336228e-311 1.31336228e-311 1.31336241e-311 1.31336241e-311]\n",
      " [1.31336241e-311 1.31336241e-311 1.31336241e-311 1.31336241e-311\n",
      "  1.31336241e-311 1.31336241e-311 1.31336241e-311 1.31336241e-311\n",
      "  1.31336241e-311 1.31336241e-311 1.31336241e-311 1.31336241e-311]\n",
      " [1.31336241e-311 1.31336241e-311 1.31336241e-311 1.31336241e-311\n",
      "  1.31336241e-311 1.31336241e-311 1.31336241e-311 1.31336241e-311\n",
      "  1.31336241e-311 1.31336241e-311 1.31336241e-311 1.31336241e-311]\n",
      " [1.31336241e-311 1.31336241e-311 1.31336241e-311 1.31336241e-311\n",
      "  1.31336241e-311 1.31336241e-311 1.31336241e-311 1.31336241e-311\n",
      "  1.31336241e-311 1.31336241e-311 1.31336241e-311 1.31336241e-311]\n",
      " [1.31336241e-311 1.31336241e-311 1.31335878e-311 1.31335878e-311\n",
      "  1.31335878e-311 1.31335878e-311 1.31335878e-311 1.31335878e-311\n",
      "  1.31335878e-311 1.31335878e-311 1.31335878e-311 1.31335878e-311]\n",
      " [1.31335878e-311 1.31335878e-311 1.31335878e-311 1.31335878e-311\n",
      "  1.31335878e-311 1.31335878e-311 1.31335878e-311 1.31335878e-311\n",
      "  1.31335878e-311 1.31335878e-311 1.31335878e-311 1.31335878e-311]\n",
      " [1.31335878e-311 1.31335878e-311 1.31335878e-311 1.31335878e-311\n",
      "  1.31335878e-311 1.31335878e-311 1.31335880e-311 1.31335880e-311\n",
      "  1.31335880e-311 1.31335880e-311 1.31335880e-311 1.31335880e-311]\n",
      " [1.31335880e-311 1.31335880e-311 1.31335880e-311 1.31335880e-311\n",
      "  1.31335880e-311 1.31335880e-311 1.31335880e-311 1.31335880e-311\n",
      "  1.31335880e-311 1.31335880e-311 1.31335880e-311 1.31335880e-311]\n",
      " [1.31335880e-311 1.31335880e-311 1.31335880e-311 1.31335880e-311\n",
      "  1.31335880e-311 1.31335880e-311 1.31335880e-311 1.31335880e-311\n",
      "  1.31335880e-311 1.31335880e-311 1.31335880e-311 1.31335880e-311]\n",
      " [1.31335880e-311 1.31335880e-311 1.31335880e-311 1.31335880e-311\n",
      "  1.31335880e-311 1.31335880e-311 1.31335880e-311 1.31335880e-311\n",
      "  1.31335880e-311 1.31335880e-311 1.31335880e-311 1.31335880e-311]\n",
      " [1.31335880e-311 1.31335880e-311 1.31335880e-311 1.31336227e-311\n",
      "  1.31336227e-311 1.31336227e-311 1.31336228e-311 1.31336228e-311\n",
      "  1.31336227e-311 1.31336228e-311 1.31336228e-311 1.31336228e-311]\n",
      " [1.31336227e-311 1.31336227e-311 1.31336228e-311 1.31336227e-311\n",
      "  1.31336228e-311 1.31336227e-311 1.31336227e-311 1.31336227e-311\n",
      "  1.31336227e-311 1.31336227e-311 1.31336228e-311 1.31336227e-311]\n",
      " [1.31336228e-311 1.31336227e-311 1.31336227e-311 1.31336227e-311\n",
      "  1.31336228e-311 1.31336227e-311 1.31336228e-311 1.31336228e-311\n",
      "  1.31336227e-311 1.31336227e-311 1.31336228e-311 1.31336227e-311]\n",
      " [1.31336227e-311 1.31336245e-311 1.31336245e-311 1.31336245e-311\n",
      "  1.31336245e-311 1.31336245e-311 1.31336245e-311 1.31336245e-311\n",
      "  1.31336245e-311 1.31336245e-311 1.31336245e-311 1.31336245e-311]\n",
      " [1.31336245e-311 1.31336245e-311 1.31336245e-311 1.31336245e-311\n",
      "  1.31336245e-311 1.31336245e-311 1.31336245e-311 1.31336245e-311\n",
      "  1.31336245e-311 1.31336245e-311 1.31336245e-311 1.31336245e-311]\n",
      " [1.31336245e-311 1.31336245e-311 1.31336245e-311 1.31336239e-311\n",
      "  1.31336239e-311 1.31336240e-311 1.31336208e-311 1.31336208e-311\n",
      "  1.31336208e-311 1.31336208e-311 1.31336208e-311 1.31336208e-311]]\n",
      "[[1. 0. 0. 0. 0. 0. 0.]\n",
      " [0. 1. 0. 0. 0. 0. 0.]\n",
      " [0. 0. 1. 0. 0. 0. 0.]\n",
      " [0. 0. 0. 1. 0. 0. 0.]]\n",
      "[[1. 0. 0. 0.]\n",
      " [0. 1. 0. 0.]\n",
      " [0. 0. 1. 0.]\n",
      " [0. 0. 0. 1.]]\n"
     ]
    }
   ],
   "source": [
    "a=np.zeros((55,12))\n",
    "print(a)\n",
    "a=np.ones((55,12))\n",
    "print(a)\n",
    "a=np.empty((55,12))\n",
    "print(a)\n",
    "arr1 = np.eye(4,7)\n",
    "print(arr1)\n",
    "arr3 = np.identity(4)\n",
    "print(arr3)"
   ]
  },
  {
   "cell_type": "code",
   "execution_count": 37,
   "id": "28f8f904",
   "metadata": {},
   "outputs": [
    {
     "name": "stdout",
     "output_type": "stream",
     "text": [
      "[1 2 3 4 5]\n",
      "[1 2 3 4 5]\n",
      "int32\n",
      "1\n",
      "4\n",
      "20\n",
      "5\n",
      "(5,)\n",
      "<class 'numpy.ndarray'>\n"
     ]
    }
   ],
   "source": [
    "import numpy as np\n",
    "arr1=np.array([1,2,3,4,5])\n",
    "print(arr1)\n",
    "arr2=np.array([[[1,2,3],[4,5,6],[6,7,8]],[[1,0,1],[0,0,1],[1,1,0]]])\n",
    "print(arr1)\n",
    "print(arr1.dtype) #data  type\n",
    "print(arr1.ndim) #no of dimesion \n",
    "print(arr1.itemsize) # size in bytes of each element\n",
    "\n",
    "print(arr1.nbytes) #size of whole array\n",
    "print(arr1.size) # numbers of elements in array \n",
    "\n",
    "print(arr1.shape) # oder of the arrays ,means it gives the rows  and coloms ##if colom is 1 it used as deafult it return as  (6,) it means  6 row and 1 colom\n",
    "print(type(arr1)) \n",
    "\n"
   ]
  },
  {
   "cell_type": "code",
   "execution_count": 38,
   "id": "9e4ea336",
   "metadata": {},
   "outputs": [
    {
     "name": "stdout",
     "output_type": "stream",
     "text": [
      "[0 1 2 3 4 5 6 7 8 9]\n"
     ]
    }
   ],
   "source": [
    "ac=np.arange(10)\n",
    "print(ac)"
   ]
  },
  {
   "cell_type": "code",
   "execution_count": 39,
   "id": "8898ed93",
   "metadata": {},
   "outputs": [
    {
     "name": "stdout",
     "output_type": "stream",
     "text": [
      "[0 1 2 3 4 5 6 7 8 9]\n"
     ]
    }
   ],
   "source": [
    "ac=np.array(range(10))\n",
    "print(ac)"
   ]
  },
  {
   "cell_type": "code",
   "execution_count": 40,
   "id": "19a4852e",
   "metadata": {},
   "outputs": [
    {
     "name": "stdout",
     "output_type": "stream",
     "text": [
      "[[0 1 2 3 4]\n",
      " [5 6 7 8 9]]\n"
     ]
    }
   ],
   "source": [
    "ac=np.arange(10)\n",
    "at=ac.reshape(2,5)\n",
    "print(at)"
   ]
  },
  {
   "cell_type": "code",
   "execution_count": 42,
   "id": "c58181c6",
   "metadata": {},
   "outputs": [
    {
     "name": "stdout",
     "output_type": "stream",
     "text": [
      "[[[ 0  1  2  3  4]\n",
      "  [ 5  6  7  8  9]]\n",
      "\n",
      " [[10 11 12 13 14]\n",
      "  [15 16 17 18 19]]\n",
      "\n",
      " [[20 21 22 23 24]\n",
      "  [25 26 27 28 29]]\n",
      "\n",
      " [[30 31 32 33 34]\n",
      "  [35 36 37 38 39]]]\n"
     ]
    }
   ],
   "source": [
    "ac=np.arange(40)\n",
    "at=ac.reshape(4,2,5)\n",
    "print(at)"
   ]
  },
  {
   "cell_type": "code",
   "execution_count": 59,
   "id": "789f7b79",
   "metadata": {},
   "outputs": [
    {
     "name": "stdout",
     "output_type": "stream",
     "text": [
      "2d   [[0 1]\n",
      " [2 3]\n",
      " [4 5]]\n",
      "3d   [[[ 0  1]\n",
      "  [ 2  3]\n",
      "  [ 4  5]]\n",
      "\n",
      " [[ 6  7]\n",
      "  [ 8  9]\n",
      "  [10 11]]]\n"
     ]
    }
   ],
   "source": [
    "ac=np.arange(40)\n",
    "a_1=np.resize(ac, (3,2))\n",
    "print(\"2d  \",a_1)\n",
    "a_1=np.resize(ac, (2,3,2))\n",
    "# a_1=ac.resize(2,5,10)\n",
    "print(\"3d  \",a_1)"
   ]
  },
  {
   "cell_type": "code",
   "execution_count": 65,
   "id": "fe950fb4",
   "metadata": {},
   "outputs": [
    {
     "name": "stdout",
     "output_type": "stream",
     "text": [
      "2\n",
      "2\n"
     ]
    }
   ],
   "source": [
    "arr2=np.array([[1,2,3],[4,5,6]])\n",
    "a_1=arr2[0][1]\n",
    "print(a_1)\n",
    "a_1=arr2[0,1]\n",
    "print(a_1)"
   ]
  },
  {
   "cell_type": "code",
   "execution_count": 67,
   "id": "6bd939e8",
   "metadata": {},
   "outputs": [
    {
     "name": "stdout",
     "output_type": "stream",
     "text": [
      "7\n"
     ]
    }
   ],
   "source": [
    "arr3=np.array([[[1,2,3],[4,5,6],[6,7,8]],[[1,0,1],[0,0,1],[1,1,0]]])\n",
    "arr2=arr3[0,2,1]\n",
    "print(arr2)"
   ]
  },
  {
   "cell_type": "code",
   "execution_count": 75,
   "id": "390a67c7",
   "metadata": {},
   "outputs": [
    {
     "name": "stdout",
     "output_type": "stream",
     "text": [
      "[78  3  5  2  7  8  9]\n",
      "[78  3  5  2  7  8  9 11 10 15]\n",
      "[15 10 11  9  8  7  2  5  3 78 56 34 12]\n",
      "[34 56]\n",
      "DEKO [78  3  5  2  7  8  9]\n",
      "[11  9  8  7  2  5  3]\n",
      "[12 34 56 78  3  5  2  7  8  9 11 10 15]\n",
      "[78  8]\n"
     ]
    }
   ],
   "source": [
    "arr1=np.array([12,34,56,78,3,5,2,7,8,9,11,10,15])\n",
    "print(arr1[3:10:1])\n",
    "print(arr1[3::])\n",
    "print(arr1[::-1])\n",
    "print(arr1[1:3:])\n",
    "print(\"DEKO\",arr1[-10:-3:])\n",
    "print(arr1[10:3:-1])\n",
    "print(arr1[::])\n",
    "print(arr1[3::5])\n",
    "# print(arr1[3:10:0])"
   ]
  },
  {
   "cell_type": "code",
   "execution_count": 76,
   "id": "f79d535e",
   "metadata": {},
   "outputs": [
    {
     "name": "stdout",
     "output_type": "stream",
     "text": [
      "[[list(['3', '4', ' ', '5', '3', ' ', ' ', '3'])\n",
      "  list([' ', ' ', '4', ' ', '5', '4', '6', ' ']) list([]) list([' '])\n",
      "  list(['5']) list([' ', ' ', ' ', ' ', ' ', ' '])\n",
      "  list(['1', '2', '3', '4', '5', '6', '7', '8', '9'])\n",
      "  list(['0', '0', '0', '0', '0', '0', '0', '0', '0'])\n",
      "  list([' ', '3', '4', ' ', '7', '6', '6', '5', '7'])]]\n"
     ]
    },
    {
     "name": "stderr",
     "output_type": "stream",
     "text": [
      "C:\\ProgramData\\Anaconda3\\lib\\site-packages\\numpy\\matrixlib\\defmatrix.py:145: VisibleDeprecationWarning: Creating an ndarray from ragged nested sequences (which is a list-or-tuple of lists-or-tuples-or ndarrays with different lengths or shapes) is deprecated. If you meant to do this, you must specify 'dtype=object' when creating the ndarray.\n",
      "  arr = N.array(data, dtype=dtype, copy=copy)\n"
     ]
    }
   ],
   "source": [
    "row1 = \"34 53  3\" \n",
    "row2 = \"  4 546 \"\n",
    "row3 = \"\"\n",
    "row4 = \" \"\n",
    "row5 = \"5\"\n",
    "row6 = \"      \"\n",
    "row7 = \"123456789\"\n",
    "row8 = \"000000000\"\n",
    "row9 = \" 34 76657\"\n",
    "\n",
    "row_list = [list(row1), list(row2), list(row3), list(row4), list(row5), \n",
    "list(row6), list(row7), list(row8), list(row9)]\n",
    "\n",
    "print(np.matrix(row_list))\n"
   ]
  },
  {
   "cell_type": "code",
   "execution_count": 78,
   "id": "7a39e5a3",
   "metadata": {},
   "outputs": [
    {
     "name": "stdout",
     "output_type": "stream",
     "text": [
      "[40 42 44 46 48 50 52 54 56 58 60 62 64 66]\n"
     ]
    }
   ],
   "source": [
    "a=np.array(range(20,34))\n",
    "b=np.array(range(20,34))\n",
    "print(a+b)"
   ]
  },
  {
   "cell_type": "code",
   "execution_count": 81,
   "id": "2e79759b",
   "metadata": {
    "scrolled": true
   },
   "outputs": [
    {
     "name": "stdout",
     "output_type": "stream",
     "text": [
      "[ 0  1  2  3  4  5  6  7  8  9 10 11 12 13 14 15 16 17]\n",
      "[[ 0  1  2]\n",
      " [ 3  4  5]\n",
      " [ 6  7  8]\n",
      " [ 9 10 11]\n",
      " [12 13 14]\n",
      " [15 16 17]]\n",
      "[[[ 0  1]\n",
      "  [ 2  3]\n",
      "  [ 4  5]]\n",
      "\n",
      " [[ 6  7]\n",
      "  [ 8  9]\n",
      "  [10 11]]\n",
      "\n",
      " [[12 13]\n",
      "  [14 15]\n",
      "  [16 17]]\n",
      "\n",
      " [[ 0  1]\n",
      "  [ 2  3]\n",
      "  [ 4  5]]\n",
      "\n",
      " [[ 6  7]\n",
      "  [ 8  9]\n",
      "  [10 11]]\n",
      "\n",
      " [[12 13]\n",
      "  [14 15]\n",
      "  [16 17]]]\n"
     ]
    }
   ],
   "source": [
    "ar1=np.arange(18)\n",
    "print(ar1)\n",
    "ar2=np.resize(ar1,(6,3))\n",
    "print(ar2)\n",
    "ar2=np.resize(ar1,(6,3,2))\n",
    "print(ar2)"
   ]
  },
  {
   "cell_type": "code",
   "execution_count": null,
   "id": "1b166843",
   "metadata": {},
   "outputs": [],
   "source": [
    "ravel,flater,copy,view,linespace"
   ]
  },
  {
   "cell_type": "code",
   "execution_count": null,
   "id": "b0e64e9b",
   "metadata": {},
   "outputs": [],
   "source": [
    "#using of random function we create "
   ]
  },
  {
   "cell_type": "code",
   "execution_count": 84,
   "id": "1f0d2c2e",
   "metadata": {},
   "outputs": [
    {
     "name": "stdout",
     "output_type": "stream",
     "text": [
      "[[0.31667059 0.15208723 0.81559681 0.57002553]\n",
      " [0.46889644 0.00291753 0.06070558 0.11003276]\n",
      " [0.79302737 0.09569594 0.27877077 0.18196819]]\n",
      "[[3.16670587 1.52087228 8.15596813 5.70025527]\n",
      " [4.68896441 0.0291753  0.60705584 1.10032763]\n",
      " [7.93027368 0.95695941 2.78770766 1.81968186]]\n"
     ]
    }
   ],
   "source": [
    "import random\n",
    "import numpy as np\n",
    "rg=np.random.default_rng()\n",
    "a1=rg.random((3,4))\n",
    "print(a1)\n",
    "a2=a1*10\n",
    "print(a2)"
   ]
  },
  {
   "cell_type": "code",
   "execution_count": 88,
   "id": "0a7ac029",
   "metadata": {},
   "outputs": [
    {
     "ename": "ValueError",
     "evalue": "all the input array dimensions for the concatenation axis must match exactly, but along dimension 0, the array at index 0 has size 2 and the array at index 1 has size 1",
     "output_type": "error",
     "traceback": [
      "\u001b[1;31m---------------------------------------------------------------------------\u001b[0m",
      "\u001b[1;31mValueError\u001b[0m                                Traceback (most recent call last)",
      "Input \u001b[1;32mIn [88]\u001b[0m, in \u001b[0;36m<cell line: 6>\u001b[1;34m()\u001b[0m\n\u001b[0;32m      4\u001b[0m c\u001b[38;5;241m=\u001b[39mnp\u001b[38;5;241m.\u001b[39mdiag([\u001b[38;5;241m7\u001b[39m,\u001b[38;5;241m8\u001b[39m])\n\u001b[0;32m      5\u001b[0m d\u001b[38;5;241m=\u001b[39mnp\u001b[38;5;241m.\u001b[39meye(\u001b[38;5;241m2\u001b[39m,\u001b[38;5;241m2\u001b[39m)\n\u001b[1;32m----> 6\u001b[0m e\u001b[38;5;241m=\u001b[39m\u001b[43mnp\u001b[49m\u001b[38;5;241;43m.\u001b[39;49m\u001b[43mblock\u001b[49m\u001b[43m(\u001b[49m\u001b[43m[\u001b[49m\u001b[43m[\u001b[49m\u001b[43ma\u001b[49m\u001b[43m,\u001b[49m\u001b[43mb\u001b[49m\u001b[43m]\u001b[49m\u001b[43m,\u001b[49m\u001b[43m[\u001b[49m\u001b[43mc\u001b[49m\u001b[43m,\u001b[49m\u001b[43md\u001b[49m\u001b[43m]\u001b[49m\u001b[43m]\u001b[49m\u001b[43m)\u001b[49m\n\u001b[0;32m      7\u001b[0m \u001b[38;5;28mprint\u001b[39m(a)\n\u001b[0;32m      8\u001b[0m \u001b[38;5;28mprint\u001b[39m(a)\n",
      "File \u001b[1;32m<__array_function__ internals>:5\u001b[0m, in \u001b[0;36mblock\u001b[1;34m(*args, **kwargs)\u001b[0m\n",
      "File \u001b[1;32mC:\\ProgramData\\Anaconda3\\lib\\site-packages\\numpy\\core\\shape_base.py:849\u001b[0m, in \u001b[0;36mblock\u001b[1;34m(arrays)\u001b[0m\n\u001b[0;32m    847\u001b[0m     \u001b[38;5;28;01mreturn\u001b[39;00m _block_slicing(arrays, list_ndim, result_ndim)\n\u001b[0;32m    848\u001b[0m \u001b[38;5;28;01melse\u001b[39;00m:\n\u001b[1;32m--> 849\u001b[0m     \u001b[38;5;28;01mreturn\u001b[39;00m \u001b[43m_block_concatenate\u001b[49m\u001b[43m(\u001b[49m\u001b[43marrays\u001b[49m\u001b[43m,\u001b[49m\u001b[43m \u001b[49m\u001b[43mlist_ndim\u001b[49m\u001b[43m,\u001b[49m\u001b[43m \u001b[49m\u001b[43mresult_ndim\u001b[49m\u001b[43m)\u001b[49m\n",
      "File \u001b[1;32mC:\\ProgramData\\Anaconda3\\lib\\site-packages\\numpy\\core\\shape_base.py:893\u001b[0m, in \u001b[0;36m_block_concatenate\u001b[1;34m(arrays, list_ndim, result_ndim)\u001b[0m\n\u001b[0;32m    892\u001b[0m \u001b[38;5;28;01mdef\u001b[39;00m \u001b[38;5;21m_block_concatenate\u001b[39m(arrays, list_ndim, result_ndim):\n\u001b[1;32m--> 893\u001b[0m     result \u001b[38;5;241m=\u001b[39m \u001b[43m_block\u001b[49m\u001b[43m(\u001b[49m\u001b[43marrays\u001b[49m\u001b[43m,\u001b[49m\u001b[43m \u001b[49m\u001b[43mlist_ndim\u001b[49m\u001b[43m,\u001b[49m\u001b[43m \u001b[49m\u001b[43mresult_ndim\u001b[49m\u001b[43m)\u001b[49m\n\u001b[0;32m    894\u001b[0m     \u001b[38;5;28;01mif\u001b[39;00m list_ndim \u001b[38;5;241m==\u001b[39m \u001b[38;5;241m0\u001b[39m:\n\u001b[0;32m    895\u001b[0m         \u001b[38;5;66;03m# Catch an edge case where _block returns a view because\u001b[39;00m\n\u001b[0;32m    896\u001b[0m         \u001b[38;5;66;03m# `arrays` is a single numpy array and not a list of numpy arrays.\u001b[39;00m\n\u001b[0;32m    897\u001b[0m         \u001b[38;5;66;03m# This might copy scalars or lists twice, but this isn't a likely\u001b[39;00m\n\u001b[0;32m    898\u001b[0m         \u001b[38;5;66;03m# usecase for those interested in performance\u001b[39;00m\n\u001b[0;32m    899\u001b[0m         result \u001b[38;5;241m=\u001b[39m result\u001b[38;5;241m.\u001b[39mcopy()\n",
      "File \u001b[1;32mC:\\ProgramData\\Anaconda3\\lib\\site-packages\\numpy\\core\\shape_base.py:660\u001b[0m, in \u001b[0;36m_block\u001b[1;34m(arrays, max_depth, result_ndim, depth)\u001b[0m\n\u001b[0;32m    651\u001b[0m \u001b[38;5;124;03m\"\"\"\u001b[39;00m\n\u001b[0;32m    652\u001b[0m \u001b[38;5;124;03mInternal implementation of block based on repeated concatenation.\u001b[39;00m\n\u001b[0;32m    653\u001b[0m \u001b[38;5;124;03m`arrays` is the argument passed to\u001b[39;00m\n\u001b[1;32m   (...)\u001b[0m\n\u001b[0;32m    657\u001b[0m \u001b[38;5;124;03mfor details).\u001b[39;00m\n\u001b[0;32m    658\u001b[0m \u001b[38;5;124;03m\"\"\"\u001b[39;00m\n\u001b[0;32m    659\u001b[0m \u001b[38;5;28;01mif\u001b[39;00m depth \u001b[38;5;241m<\u001b[39m max_depth:\n\u001b[1;32m--> 660\u001b[0m     arrs \u001b[38;5;241m=\u001b[39m [_block(arr, max_depth, result_ndim, depth\u001b[38;5;241m+\u001b[39m\u001b[38;5;241m1\u001b[39m)\n\u001b[0;32m    661\u001b[0m             \u001b[38;5;28;01mfor\u001b[39;00m arr \u001b[38;5;129;01min\u001b[39;00m arrays]\n\u001b[0;32m    662\u001b[0m     \u001b[38;5;28;01mreturn\u001b[39;00m _concatenate(arrs, axis\u001b[38;5;241m=\u001b[39m\u001b[38;5;241m-\u001b[39m(max_depth\u001b[38;5;241m-\u001b[39mdepth))\n\u001b[0;32m    663\u001b[0m \u001b[38;5;28;01melse\u001b[39;00m:\n\u001b[0;32m    664\u001b[0m     \u001b[38;5;66;03m# We've 'bottomed out' - arrays is either a scalar or an array\u001b[39;00m\n\u001b[0;32m    665\u001b[0m     \u001b[38;5;66;03m# type(arrays) is not list\u001b[39;00m\n",
      "File \u001b[1;32mC:\\ProgramData\\Anaconda3\\lib\\site-packages\\numpy\\core\\shape_base.py:660\u001b[0m, in \u001b[0;36m<listcomp>\u001b[1;34m(.0)\u001b[0m\n\u001b[0;32m    651\u001b[0m \u001b[38;5;124;03m\"\"\"\u001b[39;00m\n\u001b[0;32m    652\u001b[0m \u001b[38;5;124;03mInternal implementation of block based on repeated concatenation.\u001b[39;00m\n\u001b[0;32m    653\u001b[0m \u001b[38;5;124;03m`arrays` is the argument passed to\u001b[39;00m\n\u001b[1;32m   (...)\u001b[0m\n\u001b[0;32m    657\u001b[0m \u001b[38;5;124;03mfor details).\u001b[39;00m\n\u001b[0;32m    658\u001b[0m \u001b[38;5;124;03m\"\"\"\u001b[39;00m\n\u001b[0;32m    659\u001b[0m \u001b[38;5;28;01mif\u001b[39;00m depth \u001b[38;5;241m<\u001b[39m max_depth:\n\u001b[1;32m--> 660\u001b[0m     arrs \u001b[38;5;241m=\u001b[39m [\u001b[43m_block\u001b[49m\u001b[43m(\u001b[49m\u001b[43marr\u001b[49m\u001b[43m,\u001b[49m\u001b[43m \u001b[49m\u001b[43mmax_depth\u001b[49m\u001b[43m,\u001b[49m\u001b[43m \u001b[49m\u001b[43mresult_ndim\u001b[49m\u001b[43m,\u001b[49m\u001b[43m \u001b[49m\u001b[43mdepth\u001b[49m\u001b[38;5;241;43m+\u001b[39;49m\u001b[38;5;241;43m1\u001b[39;49m\u001b[43m)\u001b[49m\n\u001b[0;32m    661\u001b[0m             \u001b[38;5;28;01mfor\u001b[39;00m arr \u001b[38;5;129;01min\u001b[39;00m arrays]\n\u001b[0;32m    662\u001b[0m     \u001b[38;5;28;01mreturn\u001b[39;00m _concatenate(arrs, axis\u001b[38;5;241m=\u001b[39m\u001b[38;5;241m-\u001b[39m(max_depth\u001b[38;5;241m-\u001b[39mdepth))\n\u001b[0;32m    663\u001b[0m \u001b[38;5;28;01melse\u001b[39;00m:\n\u001b[0;32m    664\u001b[0m     \u001b[38;5;66;03m# We've 'bottomed out' - arrays is either a scalar or an array\u001b[39;00m\n\u001b[0;32m    665\u001b[0m     \u001b[38;5;66;03m# type(arrays) is not list\u001b[39;00m\n",
      "File \u001b[1;32mC:\\ProgramData\\Anaconda3\\lib\\site-packages\\numpy\\core\\shape_base.py:662\u001b[0m, in \u001b[0;36m_block\u001b[1;34m(arrays, max_depth, result_ndim, depth)\u001b[0m\n\u001b[0;32m    659\u001b[0m \u001b[38;5;28;01mif\u001b[39;00m depth \u001b[38;5;241m<\u001b[39m max_depth:\n\u001b[0;32m    660\u001b[0m     arrs \u001b[38;5;241m=\u001b[39m [_block(arr, max_depth, result_ndim, depth\u001b[38;5;241m+\u001b[39m\u001b[38;5;241m1\u001b[39m)\n\u001b[0;32m    661\u001b[0m             \u001b[38;5;28;01mfor\u001b[39;00m arr \u001b[38;5;129;01min\u001b[39;00m arrays]\n\u001b[1;32m--> 662\u001b[0m     \u001b[38;5;28;01mreturn\u001b[39;00m \u001b[43m_concatenate\u001b[49m\u001b[43m(\u001b[49m\u001b[43marrs\u001b[49m\u001b[43m,\u001b[49m\u001b[43m \u001b[49m\u001b[43maxis\u001b[49m\u001b[38;5;241;43m=\u001b[39;49m\u001b[38;5;241;43m-\u001b[39;49m\u001b[43m(\u001b[49m\u001b[43mmax_depth\u001b[49m\u001b[38;5;241;43m-\u001b[39;49m\u001b[43mdepth\u001b[49m\u001b[43m)\u001b[49m\u001b[43m)\u001b[49m\n\u001b[0;32m    663\u001b[0m \u001b[38;5;28;01melse\u001b[39;00m:\n\u001b[0;32m    664\u001b[0m     \u001b[38;5;66;03m# We've 'bottomed out' - arrays is either a scalar or an array\u001b[39;00m\n\u001b[0;32m    665\u001b[0m     \u001b[38;5;66;03m# type(arrays) is not list\u001b[39;00m\n\u001b[0;32m    666\u001b[0m     \u001b[38;5;28;01mreturn\u001b[39;00m _atleast_nd(arrays, result_ndim)\n",
      "\u001b[1;31mValueError\u001b[0m: all the input array dimensions for the concatenation axis must match exactly, but along dimension 0, the array at index 0 has size 2 and the array at index 1 has size 1"
     ]
    }
   ],
   "source": [
    "import numpy as np\n",
    "a=np.identity(2)\n",
    "b=np.zeros(2)\n",
    "c=np.diag([7,8])\n",
    "d=np.eye(2,2)\n",
    "e=np.block([[a,b],[c,d]])\n",
    "print(a)\n",
    "print(a)\n",
    "print(a)"
   ]
  },
  {
   "cell_type": "code",
   "execution_count": null,
   "id": "485c67b7",
   "metadata": {},
   "outputs": [],
   "source": []
  }
 ],
 "metadata": {
  "kernelspec": {
   "display_name": "Python 3 (ipykernel)",
   "language": "python",
   "name": "python3"
  },
  "language_info": {
   "codemirror_mode": {
    "name": "ipython",
    "version": 3
   },
   "file_extension": ".py",
   "mimetype": "text/x-python",
   "name": "python",
   "nbconvert_exporter": "python",
   "pygments_lexer": "ipython3",
   "version": "3.9.12"
  }
 },
 "nbformat": 4,
 "nbformat_minor": 5
}
